{
 "cells": [
  {
   "cell_type": "code",
   "execution_count": 1,
   "id": "01f6040d",
   "metadata": {},
   "outputs": [],
   "source": [
    "import numpy as np"
   ]
  },
  {
   "cell_type": "code",
   "execution_count": 2,
   "id": "1c3a818c",
   "metadata": {},
   "outputs": [],
   "source": [
    "n1 = np.array([10,20,30,40])"
   ]
  },
  {
   "cell_type": "code",
   "execution_count": 3,
   "id": "998c2b6b",
   "metadata": {},
   "outputs": [
    {
     "name": "stdout",
     "output_type": "stream",
     "text": [
      "[10 20 30 40]\n"
     ]
    }
   ],
   "source": [
    "print(n1)"
   ]
  },
  {
   "cell_type": "code",
   "execution_count": 4,
   "id": "5380d6e5",
   "metadata": {},
   "outputs": [
    {
     "data": {
      "text/plain": [
       "numpy.ndarray"
      ]
     },
     "execution_count": 4,
     "metadata": {},
     "output_type": "execute_result"
    }
   ],
   "source": [
    "type(n1)"
   ]
  },
  {
   "cell_type": "markdown",
   "id": "d87777fc",
   "metadata": {},
   "source": [
    "# initialization a array of matrix "
   ]
  },
  {
   "cell_type": "code",
   "execution_count": 5,
   "id": "bd1b6ec8",
   "metadata": {},
   "outputs": [],
   "source": [
    "n2= np.array([[]])"
   ]
  },
  {
   "cell_type": "code",
   "execution_count": 21,
   "id": "e06b8088",
   "metadata": {},
   "outputs": [],
   "source": [
    "\n",
    "n3 = np.full((3,3),9)"
   ]
  },
  {
   "cell_type": "code",
   "execution_count": 7,
   "id": "ae863b30",
   "metadata": {},
   "outputs": [
    {
     "data": {
      "text/plain": [
       "array([[9, 9, 9],\n",
       "       [9, 9, 9],\n",
       "       [9, 9, 9]])"
      ]
     },
     "execution_count": 7,
     "metadata": {},
     "output_type": "execute_result"
    }
   ],
   "source": [
    "n3"
   ]
  },
  {
   "cell_type": "markdown",
   "id": "411dd475",
   "metadata": {},
   "source": [
    "# Initializtion of NumPy array within a range."
   ]
  },
  {
   "cell_type": "code",
   "execution_count": 11,
   "id": "3628f2e3",
   "metadata": {},
   "outputs": [],
   "source": [
    "n5 = np.arange(10,20)"
   ]
  },
  {
   "cell_type": "code",
   "execution_count": 12,
   "id": "9b98fadc",
   "metadata": {
    "scrolled": true
   },
   "outputs": [
    {
     "data": {
      "text/plain": [
       "array([10, 11, 12, 13, 14, 15, 16, 17, 18, 19])"
      ]
     },
     "execution_count": 12,
     "metadata": {},
     "output_type": "execute_result"
    }
   ],
   "source": [
    "n5"
   ]
  },
  {
   "cell_type": "code",
   "execution_count": 14,
   "id": "4d4fbea8",
   "metadata": {},
   "outputs": [],
   "source": [
    "## array with the skip"
   ]
  },
  {
   "cell_type": "code",
   "execution_count": 15,
   "id": "41160f76",
   "metadata": {},
   "outputs": [],
   "source": [
    "n6 = np.arange(1,10,2)"
   ]
  },
  {
   "cell_type": "code",
   "execution_count": 16,
   "id": "59b492ed",
   "metadata": {},
   "outputs": [
    {
     "data": {
      "text/plain": [
       "array([1, 3, 5, 7, 9])"
      ]
     },
     "execution_count": 16,
     "metadata": {},
     "output_type": "execute_result"
    }
   ],
   "source": [
    "n6"
   ]
  },
  {
   "cell_type": "markdown",
   "id": "c5c6676f",
   "metadata": {},
   "source": [
    "# initialization NumPy array with the random"
   ]
  },
  {
   "cell_type": "code",
   "execution_count": 18,
   "id": "e1a78e2e",
   "metadata": {},
   "outputs": [],
   "source": [
    "n7 = np.random.randint(100,1000,10)"
   ]
  },
  {
   "cell_type": "code",
   "execution_count": 19,
   "id": "eb425a7b",
   "metadata": {},
   "outputs": [
    {
     "data": {
      "text/plain": [
       "array([418, 461, 365, 545, 940, 823, 315, 890, 282, 967])"
      ]
     },
     "execution_count": 19,
     "metadata": {},
     "output_type": "execute_result"
    }
   ],
   "source": [
    "n7"
   ]
  },
  {
   "cell_type": "code",
   "execution_count": 22,
   "id": "b5e7af5f",
   "metadata": {},
   "outputs": [
    {
     "data": {
      "text/plain": [
       "(array([10, 11, 12, 13, 14, 15, 16, 17, 18, 19]),\n",
       " array([418, 461, 365, 545, 940, 823, 315, 890, 282, 967]))"
      ]
     },
     "execution_count": 22,
     "metadata": {},
     "output_type": "execute_result"
    }
   ],
   "source": [
    "n5,n7\n"
   ]
  },
  {
   "cell_type": "code",
   "execution_count": 32,
   "id": "90684140",
   "metadata": {},
   "outputs": [
    {
     "name": "stdout",
     "output_type": "stream",
     "text": [
      "[1235]\n"
     ]
    }
   ],
   "source": [
    "n7 = np.random.randint(1000,9999,1)\n",
    "print(n7)"
   ]
  },
  {
   "cell_type": "code",
   "execution_count": 31,
   "id": "64c700e2",
   "metadata": {},
   "outputs": [
    {
     "data": {
      "text/plain": [
       "array([6552])"
      ]
     },
     "execution_count": 31,
     "metadata": {},
     "output_type": "execute_result"
    }
   ],
   "source": []
  },
  {
   "cell_type": "markdown",
   "id": "bee8f3ce",
   "metadata": {},
   "source": [
    "# Initilization the array shape changes in the fraction "
   ]
  },
  {
   "cell_type": "code",
   "execution_count": 43,
   "id": "6cd8c3e3",
   "metadata": {},
   "outputs": [],
   "source": [
    "n8 = np.array([[10,20,30],[40,50,60],[70,80,90],[22,23,24]])"
   ]
  },
  {
   "cell_type": "code",
   "execution_count": 44,
   "id": "acc922c1",
   "metadata": {},
   "outputs": [
    {
     "data": {
      "text/plain": [
       "array([[10, 20, 30],\n",
       "       [40, 50, 60],\n",
       "       [70, 80, 90],\n",
       "       [22, 23, 24]])"
      ]
     },
     "execution_count": 44,
     "metadata": {},
     "output_type": "execute_result"
    }
   ],
   "source": [
    "n8"
   ]
  },
  {
   "cell_type": "code",
   "execution_count": 47,
   "id": "398c7a3e",
   "metadata": {},
   "outputs": [],
   "source": [
    "n8.shape=(4,3)"
   ]
  },
  {
   "cell_type": "code",
   "execution_count": 48,
   "id": "36a1dd05",
   "metadata": {},
   "outputs": [
    {
     "data": {
      "text/plain": [
       "array([[10, 20, 30],\n",
       "       [40, 50, 60],\n",
       "       [70, 80, 90],\n",
       "       [22, 23, 24]])"
      ]
     },
     "execution_count": 48,
     "metadata": {},
     "output_type": "execute_result"
    }
   ],
   "source": [
    "n8"
   ]
  },
  {
   "cell_type": "markdown",
   "id": "998a5ecd",
   "metadata": {},
   "source": [
    "# Joining NumPy Array"
   ]
  },
  {
   "cell_type": "code",
   "execution_count": 50,
   "id": "61db33e5",
   "metadata": {},
   "outputs": [],
   "source": [
    "a = np.array([10,20,30])\n",
    "b = np.array([40,50,60])"
   ]
  },
  {
   "cell_type": "code",
   "execution_count": 51,
   "id": "29bdf0a7",
   "metadata": {},
   "outputs": [
    {
     "data": {
      "text/plain": [
       "array([[10, 20, 30],\n",
       "       [40, 50, 60]])"
      ]
     },
     "execution_count": 51,
     "metadata": {},
     "output_type": "execute_result"
    }
   ],
   "source": [
    "np.vstack((a,b)) #joining the numpy as vertical stacking"
   ]
  },
  {
   "cell_type": "code",
   "execution_count": 52,
   "id": "f28573e8",
   "metadata": {},
   "outputs": [
    {
     "data": {
      "text/plain": [
       "array([10, 20, 30, 40, 50, 60])"
      ]
     },
     "execution_count": 52,
     "metadata": {},
     "output_type": "execute_result"
    }
   ],
   "source": [
    "np.hstack((a,b)) #joining the numpy as horizontal stacking"
   ]
  },
  {
   "cell_type": "code",
   "execution_count": 53,
   "id": "409eb8ff",
   "metadata": {},
   "outputs": [
    {
     "data": {
      "text/plain": [
       "array([[10, 40],\n",
       "       [20, 50],\n",
       "       [30, 60]])"
      ]
     },
     "execution_count": 53,
     "metadata": {},
     "output_type": "execute_result"
    }
   ],
   "source": [
    "np.column_stack((a,b)) #joining the numpy as column stacking"
   ]
  },
  {
   "cell_type": "code",
   "execution_count": 54,
   "id": "ed62a301",
   "metadata": {},
   "outputs": [
    {
     "data": {
      "text/plain": [
       "array([[10, 20, 30],\n",
       "       [40, 50, 60]])"
      ]
     },
     "execution_count": 54,
     "metadata": {},
     "output_type": "execute_result"
    }
   ],
   "source": [
    "np.row_stack((a,b)) #joining the numpy as row stacking"
   ]
  },
  {
   "cell_type": "markdown",
   "id": "1078e01a",
   "metadata": {},
   "source": [
    "# NumPy Intersection and difference"
   ]
  },
  {
   "cell_type": "code",
   "execution_count": 57,
   "id": "15d38c8b",
   "metadata": {},
   "outputs": [],
   "source": [
    "x = np.array([10,20,30,40,50,60])\n",
    "y = np.array([30,50,90,100,120,150])"
   ]
  },
  {
   "cell_type": "code",
   "execution_count": 58,
   "id": "b43f397c",
   "metadata": {},
   "outputs": [
    {
     "data": {
      "text/plain": [
       "array([30, 50])"
      ]
     },
     "execution_count": 58,
     "metadata": {},
     "output_type": "execute_result"
    }
   ],
   "source": [
    "np.intersect1d(x,y)"
   ]
  },
  {
   "cell_type": "code",
   "execution_count": 1,
   "id": "b239e116",
   "metadata": {},
   "outputs": [],
   "source": []
  },
  {
   "cell_type": "code",
   "execution_count": 2,
   "id": "2278ad26",
   "metadata": {},
   "outputs": [],
   "source": [
    "import pandas as pd\n"
   ]
  },
  {
   "cell_type": "code",
   "execution_count": 3,
   "id": "4e4a584d",
   "metadata": {},
   "outputs": [],
   "source": [
    "s1 = pd.Series([1,2,3,4,5])"
   ]
  },
  {
   "cell_type": "code",
   "execution_count": null,
   "id": "2740d2b8",
   "metadata": {},
   "outputs": [],
   "source": []
  }
 ],
 "metadata": {
  "kernelspec": {
   "display_name": "Python 3 (ipykernel)",
   "language": "python",
   "name": "python3"
  },
  "language_info": {
   "codemirror_mode": {
    "name": "ipython",
    "version": 3
   },
   "file_extension": ".py",
   "mimetype": "text/x-python",
   "name": "python",
   "nbconvert_exporter": "python",
   "pygments_lexer": "ipython3",
   "version": "3.11.5"
  }
 },
 "nbformat": 4,
 "nbformat_minor": 5
}
